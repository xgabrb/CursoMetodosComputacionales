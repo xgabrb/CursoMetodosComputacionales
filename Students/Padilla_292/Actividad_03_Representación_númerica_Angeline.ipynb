{
  "cells": [
    {
      "cell_type": "code",
      "execution_count": 2,
      "metadata": {
        "cellView": "form",
        "id": "rZuc8vXcWuxy"
      },
      "outputs": [],
      "source": [
        "#@title Librerias\n",
        "import numpy as np\n",
        "import matplotlib.pyplot as plt\n",
        "import pandas as pd"
      ]
    },
    {
      "cell_type": "markdown",
      "metadata": {
        "id": "MGwGfceuWxy3"
      },
      "source": [
        "# Actividad 03: Representación númerica\n",
        "\n",
        "---\n",
        "### Profesor: Juan Marcos Marín\n",
        "### Nombre: Angeline Gabriela Padilla Urbina\n",
        "#### C.C.: 1001919292\n",
        "*Métodos computacionales 2024-II*\n",
        "\n",
        "---"
      ]
    },
    {
      "cell_type": "markdown",
      "metadata": {
        "id": "jB6BqzoSamB0"
      },
      "source": [
        "**NOTA: No utilizar los métodos `bin` o `int`**"
      ]
    },
    {
      "cell_type": "markdown",
      "metadata": {
        "id": "BOi6yQmJW7os"
      },
      "source": [
        "1. Escriba una función que se llame `mybin` que reciba un número entero real de 16 bits y realice su conversión en código binario, compare su resultado con `bin(4321)`"
      ]
    },
    {
      "cell_type": "code",
      "execution_count": 3,
      "metadata": {
        "id": "xbt3ZmYiW6oF",
        "colab": {
          "base_uri": "https://localhost:8080/"
        },
        "outputId": "5a3b1311-2062-4c1f-ed24-3cd06b1196ac"
      },
      "outputs": [
        {
          "output_type": "stream",
          "name": "stdout",
          "text": [
            "1000011100001\n",
            "0b1000011100001\n"
          ]
        }
      ],
      "source": [
        "def mybin(x):\n",
        "  l = []\n",
        "  if x > 2**16 and x < 0:\n",
        "    return \"La función está definida para números positivos de 16 bits.\"\n",
        "  else:\n",
        "    while True:\n",
        "      l.append(x%2)\n",
        "      x = x // 2\n",
        "      if x < 1:\n",
        "        break\n",
        "    l.reverse()\n",
        "    l = ''.join(str(j) for j in l)\n",
        "    return l\n",
        "print(mybin(4321))\n",
        "print(bin(4321))"
      ]
    },
    {
      "cell_type": "markdown",
      "metadata": {
        "id": "5X_8-jpEXjSw"
      },
      "source": [
        "2. Cree una función llamada `myint` pero que a partir de un número binario con base de 16 bits encuentre el entero correspondiente. Compare su resultado con `int(0b1000011100001)`"
      ]
    },
    {
      "cell_type": "code",
      "execution_count": 10,
      "metadata": {
        "id": "VmS2TiF4XsbN",
        "colab": {
          "base_uri": "https://localhost:8080/"
        },
        "outputId": "c900b0c2-3963-430e-9808-6e8a13eb57d2"
      },
      "outputs": [
        {
          "output_type": "stream",
          "name": "stdout",
          "text": [
            "El número en decimal es:  4321\n",
            "Con el método de Python:  4321\n"
          ]
        }
      ],
      "source": [
        "def myint(binario):\n",
        "  decimal = 0\n",
        "  if len(binario) != 16:\n",
        "    raise ValueError(\"El número que ingresó no es de 16 bits.\")\n",
        "  for i in range(16):\n",
        "    bit = binario[15 - i]\n",
        "    if bit == '1':\n",
        "      decimal += 2**i\n",
        "  return decimal\n",
        "\n",
        "bin = \"0001000011100001\"\n",
        "print('El número en decimal es: ',myint(bin))\n",
        "print('Con el método de Python: ',int(0b1000011100001))"
      ]
    },
    {
      "cell_type": "markdown",
      "metadata": {
        "id": "pHQ8ftloYPO5"
      },
      "source": [
        "3. Generar una función llamada `number64` para flotantes de precisión doble (64bits) donde a partir de un número binario encuentre el valor real. Compruebe su solución usando\n",
        "\n",
        "```\n",
        "number64(\"0100000000111011100100001111111111111111111111111111111111111111\")\n",
        "```\n",
        "\n"
      ]
    },
    {
      "cell_type": "code",
      "execution_count": 12,
      "metadata": {
        "id": "8W4MIVKhZTsO",
        "colab": {
          "base_uri": "https://localhost:8080/"
        },
        "outputId": "175ab7d3-71ae-4fa6-e589-0e2e2ac34387"
      },
      "outputs": [
        {
          "output_type": "execute_result",
          "data": {
            "text/plain": [
              "27.566406249999996"
            ]
          },
          "metadata": {},
          "execution_count": 12
        }
      ],
      "source": [
        "def number64(bina):\n",
        "    if len(bina) != 64 :\n",
        "        raise ValueError(\"El número que ingresó no es de 64 bits.\")\n",
        "\n",
        "    signo = int(bina[0])\n",
        "    ex = bina[1:12]\n",
        "    mant = bina[12:]\n",
        "\n",
        "    exent = int(ex, 2) - 1023\n",
        "\n",
        "    mantent = 1.0\n",
        "    for i in range(52):\n",
        "        if mant[i] == '1':\n",
        "            mantent += 2 ** -(i + 1)\n",
        "\n",
        "    num = (-1) ** signo * mantent * (2 ** exent)\n",
        "\n",
        "    return num\n",
        "\n",
        "number64(\"0100000000111011100100001111111111111111111111111111111111111111\")\n"
      ]
    },
    {
      "cell_type": "markdown",
      "metadata": {
        "id": "xwyZCxWtZZoH"
      },
      "source": [
        "\n",
        "\n",
        "4. ***(Opcional)*** Escriba una función que convierta un número con base de 8 bits en hexadecimal, compruebe su respuesta con `hex` e imprimalo también en binario."
      ]
    },
    {
      "cell_type": "code",
      "execution_count": null,
      "metadata": {
        "id": "SpJuueSgbJ4I"
      },
      "outputs": [],
      "source": [
        "# Aqui va su código"
      ]
    }
  ],
  "metadata": {
    "colab": {
      "provenance": []
    },
    "kernelspec": {
      "display_name": "Python 3",
      "name": "python3"
    },
    "language_info": {
      "name": "python"
    }
  },
  "nbformat": 4,
  "nbformat_minor": 0
}